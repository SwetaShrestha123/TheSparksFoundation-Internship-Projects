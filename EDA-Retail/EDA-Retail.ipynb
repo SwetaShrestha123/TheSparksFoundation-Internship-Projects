{
 "cells": [
  {
   "cell_type": "markdown",
   "metadata": {},
   "source": [
    "# Exploratory Data Analysis: Retail"
   ]
  },
  {
   "cell_type": "markdown",
   "metadata": {},
   "source": [
    "This is the superstore data for US based company."
   ]
  },
  {
   "cell_type": "markdown",
   "metadata": {},
   "source": [
    "**Import libraries**"
   ]
  },
  {
   "cell_type": "code",
   "execution_count": 31,
   "metadata": {},
   "outputs": [],
   "source": [
    "import pandas as pd\n",
    "import numpy as np"
   ]
  },
  {
   "cell_type": "code",
   "execution_count": 32,
   "metadata": {},
   "outputs": [],
   "source": [
    "import matplotlib.pyplot as plt\n",
    "import seaborn as sns\n",
    "%matplotlib inline"
   ]
  },
  {
   "cell_type": "markdown",
   "metadata": {},
   "source": [
    "**Get the Data**"
   ]
  },
  {
   "cell_type": "code",
   "execution_count": 33,
   "metadata": {},
   "outputs": [],
   "source": [
    "df=pd.read_csv('SampleSuperstore.csv')"
   ]
  },
  {
   "cell_type": "code",
   "execution_count": 34,
   "metadata": {},
   "outputs": [
    {
     "data": {
      "text/html": [
       "<div>\n",
       "<style scoped>\n",
       "    .dataframe tbody tr th:only-of-type {\n",
       "        vertical-align: middle;\n",
       "    }\n",
       "\n",
       "    .dataframe tbody tr th {\n",
       "        vertical-align: top;\n",
       "    }\n",
       "\n",
       "    .dataframe thead th {\n",
       "        text-align: right;\n",
       "    }\n",
       "</style>\n",
       "<table border=\"1\" class=\"dataframe\">\n",
       "  <thead>\n",
       "    <tr style=\"text-align: right;\">\n",
       "      <th></th>\n",
       "      <th>Ship Mode</th>\n",
       "      <th>Segment</th>\n",
       "      <th>Country</th>\n",
       "      <th>City</th>\n",
       "      <th>State</th>\n",
       "      <th>Postal Code</th>\n",
       "      <th>Region</th>\n",
       "      <th>Category</th>\n",
       "      <th>Sub-Category</th>\n",
       "      <th>Sales</th>\n",
       "      <th>Quantity</th>\n",
       "      <th>Discount</th>\n",
       "      <th>Profit</th>\n",
       "    </tr>\n",
       "  </thead>\n",
       "  <tbody>\n",
       "    <tr>\n",
       "      <th>0</th>\n",
       "      <td>Second Class</td>\n",
       "      <td>Consumer</td>\n",
       "      <td>United States</td>\n",
       "      <td>Henderson</td>\n",
       "      <td>Kentucky</td>\n",
       "      <td>42420</td>\n",
       "      <td>South</td>\n",
       "      <td>Furniture</td>\n",
       "      <td>Bookcases</td>\n",
       "      <td>261.96</td>\n",
       "      <td>2</td>\n",
       "      <td>0.0</td>\n",
       "      <td>41.9136</td>\n",
       "    </tr>\n",
       "    <tr>\n",
       "      <th>1</th>\n",
       "      <td>Second Class</td>\n",
       "      <td>Consumer</td>\n",
       "      <td>United States</td>\n",
       "      <td>Henderson</td>\n",
       "      <td>Kentucky</td>\n",
       "      <td>42420</td>\n",
       "      <td>South</td>\n",
       "      <td>Furniture</td>\n",
       "      <td>Chairs</td>\n",
       "      <td>731.94</td>\n",
       "      <td>3</td>\n",
       "      <td>0.0</td>\n",
       "      <td>219.5820</td>\n",
       "    </tr>\n",
       "  </tbody>\n",
       "</table>\n",
       "</div>"
      ],
      "text/plain": [
       "      Ship Mode   Segment        Country       City     State  Postal Code  \\\n",
       "0  Second Class  Consumer  United States  Henderson  Kentucky        42420   \n",
       "1  Second Class  Consumer  United States  Henderson  Kentucky        42420   \n",
       "\n",
       "  Region   Category Sub-Category   Sales  Quantity  Discount    Profit  \n",
       "0  South  Furniture    Bookcases  261.96         2       0.0   41.9136  \n",
       "1  South  Furniture       Chairs  731.94         3       0.0  219.5820  "
      ]
     },
     "execution_count": 34,
     "metadata": {},
     "output_type": "execute_result"
    }
   ],
   "source": [
    "df.head(2)"
   ]
  },
  {
   "cell_type": "code",
   "execution_count": 35,
   "metadata": {},
   "outputs": [
    {
     "name": "stdout",
     "output_type": "stream",
     "text": [
      "<class 'pandas.core.frame.DataFrame'>\n",
      "RangeIndex: 9994 entries, 0 to 9993\n",
      "Data columns (total 13 columns):\n",
      " #   Column        Non-Null Count  Dtype  \n",
      "---  ------        --------------  -----  \n",
      " 0   Ship Mode     9994 non-null   object \n",
      " 1   Segment       9994 non-null   object \n",
      " 2   Country       9994 non-null   object \n",
      " 3   City          9994 non-null   object \n",
      " 4   State         9994 non-null   object \n",
      " 5   Postal Code   9994 non-null   int64  \n",
      " 6   Region        9994 non-null   object \n",
      " 7   Category      9994 non-null   object \n",
      " 8   Sub-Category  9994 non-null   object \n",
      " 9   Sales         9994 non-null   float64\n",
      " 10  Quantity      9994 non-null   int64  \n",
      " 11  Discount      9994 non-null   float64\n",
      " 12  Profit        9994 non-null   float64\n",
      "dtypes: float64(3), int64(2), object(8)\n",
      "memory usage: 1015.1+ KB\n"
     ]
    }
   ],
   "source": [
    "df.info()"
   ]
  },
  {
   "cell_type": "markdown",
   "metadata": {},
   "source": [
    "Let's check unique elements in different columns."
   ]
  },
  {
   "cell_type": "code",
   "execution_count": 36,
   "metadata": {},
   "outputs": [
    {
     "data": {
      "text/plain": [
       "array(['Consumer', 'Corporate', 'Home Office'], dtype=object)"
      ]
     },
     "execution_count": 36,
     "metadata": {},
     "output_type": "execute_result"
    }
   ],
   "source": [
    "df['Segment'].unique()"
   ]
  },
  {
   "cell_type": "code",
   "execution_count": 37,
   "metadata": {},
   "outputs": [
    {
     "data": {
      "text/plain": [
       "array(['Furniture', 'Office Supplies', 'Technology'], dtype=object)"
      ]
     },
     "execution_count": 37,
     "metadata": {},
     "output_type": "execute_result"
    }
   ],
   "source": [
    "df['Category'].unique()"
   ]
  },
  {
   "cell_type": "code",
   "execution_count": 38,
   "metadata": {},
   "outputs": [
    {
     "data": {
      "text/plain": [
       "array(['Bookcases', 'Chairs', 'Labels', 'Tables', 'Storage',\n",
       "       'Furnishings', 'Art', 'Phones', 'Binders', 'Appliances', 'Paper',\n",
       "       'Accessories', 'Envelopes', 'Fasteners', 'Supplies', 'Machines',\n",
       "       'Copiers'], dtype=object)"
      ]
     },
     "execution_count": 38,
     "metadata": {},
     "output_type": "execute_result"
    }
   ],
   "source": [
    "df['Sub-Category'].unique()"
   ]
  },
  {
   "cell_type": "code",
   "execution_count": 39,
   "metadata": {},
   "outputs": [
    {
     "data": {
      "text/plain": [
       "array(['Bookcases', 'Chairs', 'Tables', 'Furnishings'], dtype=object)"
      ]
     },
     "execution_count": 39,
     "metadata": {},
     "output_type": "execute_result"
    }
   ],
   "source": [
    "df[df['Category']=='Furniture']['Sub-Category'].unique()"
   ]
  },
  {
   "cell_type": "code",
   "execution_count": 40,
   "metadata": {},
   "outputs": [
    {
     "data": {
      "text/plain": [
       "array(['Labels', 'Storage', 'Art', 'Binders', 'Appliances', 'Paper',\n",
       "       'Envelopes', 'Fasteners', 'Supplies'], dtype=object)"
      ]
     },
     "execution_count": 40,
     "metadata": {},
     "output_type": "execute_result"
    }
   ],
   "source": [
    "df[df['Category']=='Office Supplies']['Sub-Category'].unique()"
   ]
  },
  {
   "cell_type": "code",
   "execution_count": 41,
   "metadata": {},
   "outputs": [
    {
     "data": {
      "text/plain": [
       "array(['Phones', 'Accessories', 'Machines', 'Copiers'], dtype=object)"
      ]
     },
     "execution_count": 41,
     "metadata": {},
     "output_type": "execute_result"
    }
   ],
   "source": [
    "df[df['Category']=='Technology']['Sub-Category'].unique()"
   ]
  },
  {
   "cell_type": "markdown",
   "metadata": {},
   "source": [
    "This code aligns the markdown table to left."
   ]
  },
  {
   "cell_type": "code",
   "execution_count": 12,
   "metadata": {},
   "outputs": [
    {
     "data": {
      "text/html": [
       "<style>\n",
       "  table {margin-left: 0 !important;}\n",
       "</style>\n"
      ],
      "text/plain": [
       "<IPython.core.display.HTML object>"
      ]
     },
     "metadata": {},
     "output_type": "display_data"
    }
   ],
   "source": [
    "%%html\n",
    "<style>\n",
    "  table {margin-left: 0 !important;}\n",
    "</style>"
   ]
  },
  {
   "cell_type": "markdown",
   "metadata": {},
   "source": [
    "\n",
    "\n",
    "The products that are selling in this site are:\n",
    "\n",
    "| Office Supplies | Technology | Furniture\n",
    "|:-: |:-: | :-:|\n",
    "| Lables | Phones| Bookcases\n",
    " | Storage| Accessories| Chairs\n",
    " | Art | Machines| Tables\n",
    " | Binders | Copiers|Furnishings\n",
    "| Appliances| | \n",
    "| Paper| |\n",
    "|Envelopes| |\n",
    "| Fasteners| |\n",
    "| Supplies| |"
   ]
  },
  {
   "cell_type": "markdown",
   "metadata": {},
   "source": [
    "Now, we will make different dataframe for Profit and Loss."
   ]
  },
  {
   "cell_type": "code",
   "execution_count": 42,
   "metadata": {},
   "outputs": [],
   "source": [
    "Profit=df[df['Profit']>0]"
   ]
  },
  {
   "cell_type": "code",
   "execution_count": 43,
   "metadata": {},
   "outputs": [],
   "source": [
    "Loss=df[df['Profit']<0]"
   ]
  },
  {
   "cell_type": "code",
   "execution_count": 44,
   "metadata": {},
   "outputs": [
    {
     "name": "stderr",
     "output_type": "stream",
     "text": [
      "C:\\Users\\dell\\anaconda3\\lib\\site-packages\\pandas\\core\\frame.py:4133: SettingWithCopyWarning: \n",
      "A value is trying to be set on a copy of a slice from a DataFrame\n",
      "\n",
      "See the caveats in the documentation: https://pandas.pydata.org/pandas-docs/stable/user_guide/indexing.html#returning-a-view-versus-a-copy\n",
      "  errors=errors,\n"
     ]
    }
   ],
   "source": [
    "Loss.rename(columns={'Profit':'Loss'},inplace=True)"
   ]
  },
  {
   "cell_type": "markdown",
   "metadata": {},
   "source": [
    "We will group the Profit and Loss dataframe by category."
   ]
  },
  {
   "cell_type": "code",
   "execution_count": 17,
   "metadata": {},
   "outputs": [],
   "source": [
    "category_profit=Profit.groupby('Category').sum().drop('Postal Code',axis=1).reset_index()"
   ]
  },
  {
   "cell_type": "code",
   "execution_count": 22,
   "metadata": {},
   "outputs": [],
   "source": [
    "category_loss=Loss.groupby('Category').sum().drop('Postal Code',axis=1).reset_index()"
   ]
  },
  {
   "cell_type": "code",
   "execution_count": 46,
   "metadata": {},
   "outputs": [
    {
     "data": {
      "text/html": [
       "<div>\n",
       "<style scoped>\n",
       "    .dataframe tbody tr th:only-of-type {\n",
       "        vertical-align: middle;\n",
       "    }\n",
       "\n",
       "    .dataframe tbody tr th {\n",
       "        vertical-align: top;\n",
       "    }\n",
       "\n",
       "    .dataframe thead th {\n",
       "        text-align: right;\n",
       "    }\n",
       "</style>\n",
       "<table border=\"1\" class=\"dataframe\">\n",
       "  <thead>\n",
       "    <tr style=\"text-align: right;\">\n",
       "      <th></th>\n",
       "      <th>Category</th>\n",
       "      <th>Sales</th>\n",
       "      <th>Quantity</th>\n",
       "      <th>Discount</th>\n",
       "      <th>Profit</th>\n",
       "    </tr>\n",
       "  </thead>\n",
       "  <tbody>\n",
       "    <tr>\n",
       "      <th>0</th>\n",
       "      <td>Furniture</td>\n",
       "      <td>465116.9615</td>\n",
       "      <td>5251</td>\n",
       "      <td>98.85</td>\n",
       "      <td>79387.3818</td>\n",
       "    </tr>\n",
       "    <tr>\n",
       "      <th>1</th>\n",
       "      <td>Office Supplies</td>\n",
       "      <td>618988.7490</td>\n",
       "      <td>19370</td>\n",
       "      <td>400.40</td>\n",
       "      <td>179106.0593</td>\n",
       "    </tr>\n",
       "    <tr>\n",
       "      <th>2</th>\n",
       "      <td>Technology</td>\n",
       "      <td>716701.1480</td>\n",
       "      <td>5957</td>\n",
       "      <td>153.80</td>\n",
       "      <td>184034.8663</td>\n",
       "    </tr>\n",
       "  </tbody>\n",
       "</table>\n",
       "</div>"
      ],
      "text/plain": [
       "          Category        Sales  Quantity  Discount       Profit\n",
       "0        Furniture  465116.9615      5251     98.85   79387.3818\n",
       "1  Office Supplies  618988.7490     19370    400.40  179106.0593\n",
       "2       Technology  716701.1480      5957    153.80  184034.8663"
      ]
     },
     "execution_count": 46,
     "metadata": {},
     "output_type": "execute_result"
    }
   ],
   "source": [
    "category_profit"
   ]
  },
  {
   "cell_type": "code",
   "execution_count": 19,
   "metadata": {},
   "outputs": [
    {
     "data": {
      "text/plain": [
       "<matplotlib.axes._subplots.AxesSubplot at 0x282bfe16088>"
      ]
     },
     "execution_count": 19,
     "metadata": {},
     "output_type": "execute_result"
    },
    {
     "data": {
      "image/png": "[encoded data removed]",
      "text/plain": [
       "<Figure size 432x288 with 1 Axes>"
      ]
     },
     "metadata": {},
     "output_type": "display_data"
    }
   ],
   "source": [
    "sns.set_style('whitegrid')\n",
    "sns.barplot(x='Category',y='Profit',data=category_profit,palette=['powderblue','lightsalmon','yellowgreen'])"
   ]
  },
  {
   "cell_type": "code",
   "execution_count": 48,
   "metadata": {},
   "outputs": [
    {
     "data": {
      "text/html": [
       "<div>\n",
       "<style scoped>\n",
       "    .dataframe tbody tr th:only-of-type {\n",
       "        vertical-align: middle;\n",
       "    }\n",
       "\n",
       "    .dataframe tbody tr th {\n",
       "        vertical-align: top;\n",
       "    }\n",
       "\n",
       "    .dataframe thead th {\n",
       "        text-align: right;\n",
       "    }\n",
       "</style>\n",
       "<table border=\"1\" class=\"dataframe\">\n",
       "  <thead>\n",
       "    <tr style=\"text-align: right;\">\n",
       "      <th></th>\n",
       "      <th>Category</th>\n",
       "      <th>Sales</th>\n",
       "      <th>Quantity</th>\n",
       "      <th>Discount</th>\n",
       "      <th>Loss</th>\n",
       "    </tr>\n",
       "  </thead>\n",
       "  <tbody>\n",
       "    <tr>\n",
       "      <th>0</th>\n",
       "      <td>Furniture</td>\n",
       "      <td>257885.5868</td>\n",
       "      <td>2652</td>\n",
       "      <td>262.14</td>\n",
       "      <td>-60936.1090</td>\n",
       "    </tr>\n",
       "    <tr>\n",
       "      <th>1</th>\n",
       "      <td>Office Supplies</td>\n",
       "      <td>91608.6750</td>\n",
       "      <td>3425</td>\n",
       "      <td>547.20</td>\n",
       "      <td>-56615.2585</td>\n",
       "    </tr>\n",
       "    <tr>\n",
       "      <th>2</th>\n",
       "      <td>Technology</td>\n",
       "      <td>119212.8930</td>\n",
       "      <td>963</td>\n",
       "      <td>90.40</td>\n",
       "      <td>-38579.9182</td>\n",
       "    </tr>\n",
       "  </tbody>\n",
       "</table>\n",
       "</div>"
      ],
      "text/plain": [
       "          Category        Sales  Quantity  Discount        Loss\n",
       "0        Furniture  257885.5868      2652    262.14 -60936.1090\n",
       "1  Office Supplies   91608.6750      3425    547.20 -56615.2585\n",
       "2       Technology  119212.8930       963     90.40 -38579.9182"
      ]
     },
     "execution_count": 48,
     "metadata": {},
     "output_type": "execute_result"
    }
   ],
   "source": [
    "category_loss"
   ]
  },
  {
   "cell_type": "code",
   "execution_count": 24,
   "metadata": {},
   "outputs": [
    {
     "data": {
      "text/plain": [
       "<matplotlib.axes._subplots.AxesSubplot at 0x282c278af88>"
      ]
     },
     "execution_count": 24,
     "metadata": {},
     "output_type": "execute_result"
    },
    {
     "data": {
      "image/png": "[encoded data removed]",
      "text/plain": [
       "<Figure size 432x288 with 1 Axes>"
      ]
     },
     "metadata": {},
     "output_type": "display_data"
    }
   ],
   "source": [
    "sns.barplot(x='Category',y='Loss',data=category_loss)"
   ]
  },
  {
   "cell_type": "markdown",
   "metadata": {},
   "source": [
    "Let's merge these two bar graphs into single bar garph which will be easy to compare."
   ]
  },
  {
   "cell_type": "code",
   "execution_count": 49,
   "metadata": {},
   "outputs": [
    {
     "data": {
      "image/png": "[encoded data removed]",
      "text/plain": [
       "<Figure size 648x504 with 2 Axes>"
      ]
     },
     "metadata": {
      "needs_background": "light"
     },
     "output_type": "display_data"
    }
   ],
   "source": [
    "plt.figure(figsize=(9,7))\n",
    "plt.subplot(2,1,1)\n",
    "rects1=plt.bar(x='Category',height='Profit',data=category_profit,color='lightgreen')\n",
    "plt.ylabel('Profit')\n",
    "plt.xticks([],[])\n",
    "\n",
    "plt.subplot(2,1,2)\n",
    "rects2=plt.bar(x='Category',height='Loss',data=category_loss,color='lightcoral')\n",
    "plt.ylabel('Loss')\n",
    "plt.xticks(range(3),category_loss['Category'])\n",
    "#plt.show()\n",
    "\n",
    "plt.show()"
   ]
  },
  {
   "cell_type": "markdown",
   "metadata": {},
   "source": [
    "As we can see from the above graphs, Technology has highest profit and lowest loss. On contrary, Furniture section has minimum profit and maximum loss."
   ]
  },
  {
   "cell_type": "markdown",
   "metadata": {},
   "source": [
    "Let's move ahead to see the overall gain from these categories."
   ]
  },
  {
   "cell_type": "code",
   "execution_count": 52,
   "metadata": {},
   "outputs": [],
   "source": [
    "overall_category=pd.merge(category_profit,category_loss,on='Category')"
   ]
  },
  {
   "cell_type": "code",
   "execution_count": 53,
   "metadata": {},
   "outputs": [
    {
     "data": {
      "text/html": [
       "<div>\n",
       "<style scoped>\n",
       "    .dataframe tbody tr th:only-of-type {\n",
       "        vertical-align: middle;\n",
       "    }\n",
       "\n",
       "    .dataframe tbody tr th {\n",
       "        vertical-align: top;\n",
       "    }\n",
       "\n",
       "    .dataframe thead th {\n",
       "        text-align: right;\n",
       "    }\n",
       "</style>\n",
       "<table border=\"1\" class=\"dataframe\">\n",
       "  <thead>\n",
       "    <tr style=\"text-align: right;\">\n",
       "      <th></th>\n",
       "      <th>Category</th>\n",
       "      <th>Sales_x</th>\n",
       "      <th>Quantity_x</th>\n",
       "      <th>Discount_x</th>\n",
       "      <th>Profit</th>\n",
       "      <th>Sales_y</th>\n",
       "      <th>Quantity_y</th>\n",
       "      <th>Discount_y</th>\n",
       "      <th>Loss</th>\n",
       "    </tr>\n",
       "  </thead>\n",
       "  <tbody>\n",
       "    <tr>\n",
       "      <th>0</th>\n",
       "      <td>Furniture</td>\n",
       "      <td>465116.9615</td>\n",
       "      <td>5251</td>\n",
       "      <td>98.85</td>\n",
       "      <td>79387.3818</td>\n",
       "      <td>257885.5868</td>\n",
       "      <td>2652</td>\n",
       "      <td>262.14</td>\n",
       "      <td>-60936.1090</td>\n",
       "    </tr>\n",
       "    <tr>\n",
       "      <th>1</th>\n",
       "      <td>Office Supplies</td>\n",
       "      <td>618988.7490</td>\n",
       "      <td>19370</td>\n",
       "      <td>400.40</td>\n",
       "      <td>179106.0593</td>\n",
       "      <td>91608.6750</td>\n",
       "      <td>3425</td>\n",
       "      <td>547.20</td>\n",
       "      <td>-56615.2585</td>\n",
       "    </tr>\n",
       "    <tr>\n",
       "      <th>2</th>\n",
       "      <td>Technology</td>\n",
       "      <td>716701.1480</td>\n",
       "      <td>5957</td>\n",
       "      <td>153.80</td>\n",
       "      <td>184034.8663</td>\n",
       "      <td>119212.8930</td>\n",
       "      <td>963</td>\n",
       "      <td>90.40</td>\n",
       "      <td>-38579.9182</td>\n",
       "    </tr>\n",
       "  </tbody>\n",
       "</table>\n",
       "</div>"
      ],
      "text/plain": [
       "          Category      Sales_x  Quantity_x  Discount_x       Profit  \\\n",
       "0        Furniture  465116.9615        5251       98.85   79387.3818   \n",
       "1  Office Supplies  618988.7490       19370      400.40  179106.0593   \n",
       "2       Technology  716701.1480        5957      153.80  184034.8663   \n",
       "\n",
       "       Sales_y  Quantity_y  Discount_y        Loss  \n",
       "0  257885.5868        2652      262.14 -60936.1090  \n",
       "1   91608.6750        3425      547.20 -56615.2585  \n",
       "2  119212.8930         963       90.40 -38579.9182  "
      ]
     },
     "execution_count": 53,
     "metadata": {},
     "output_type": "execute_result"
    }
   ],
   "source": [
    "overall_category"
   ]
  },
  {
   "cell_type": "code",
   "execution_count": 54,
   "metadata": {},
   "outputs": [],
   "source": [
    "overall_category['Overall Gain']=overall_category['Profit']+overall_category['Loss']"
   ]
  },
  {
   "cell_type": "code",
   "execution_count": 55,
   "metadata": {},
   "outputs": [
    {
     "data": {
      "text/html": [
       "<div>\n",
       "<style scoped>\n",
       "    .dataframe tbody tr th:only-of-type {\n",
       "        vertical-align: middle;\n",
       "    }\n",
       "\n",
       "    .dataframe tbody tr th {\n",
       "        vertical-align: top;\n",
       "    }\n",
       "\n",
       "    .dataframe thead th {\n",
       "        text-align: right;\n",
       "    }\n",
       "</style>\n",
       "<table border=\"1\" class=\"dataframe\">\n",
       "  <thead>\n",
       "    <tr style=\"text-align: right;\">\n",
       "      <th></th>\n",
       "      <th>Category</th>\n",
       "      <th>Sales_x</th>\n",
       "      <th>Quantity_x</th>\n",
       "      <th>Discount_x</th>\n",
       "      <th>Profit</th>\n",
       "      <th>Sales_y</th>\n",
       "      <th>Quantity_y</th>\n",
       "      <th>Discount_y</th>\n",
       "      <th>Loss</th>\n",
       "      <th>Overall Gain</th>\n",
       "    </tr>\n",
       "  </thead>\n",
       "  <tbody>\n",
       "    <tr>\n",
       "      <th>0</th>\n",
       "      <td>Furniture</td>\n",
       "      <td>465116.9615</td>\n",
       "      <td>5251</td>\n",
       "      <td>98.85</td>\n",
       "      <td>79387.3818</td>\n",
       "      <td>257885.5868</td>\n",
       "      <td>2652</td>\n",
       "      <td>262.14</td>\n",
       "      <td>-60936.1090</td>\n",
       "      <td>18451.2728</td>\n",
       "    </tr>\n",
       "    <tr>\n",
       "      <th>1</th>\n",
       "      <td>Office Supplies</td>\n",
       "      <td>618988.7490</td>\n",
       "      <td>19370</td>\n",
       "      <td>400.40</td>\n",
       "      <td>179106.0593</td>\n",
       "      <td>91608.6750</td>\n",
       "      <td>3425</td>\n",
       "      <td>547.20</td>\n",
       "      <td>-56615.2585</td>\n",
       "      <td>122490.8008</td>\n",
       "    </tr>\n",
       "    <tr>\n",
       "      <th>2</th>\n",
       "      <td>Technology</td>\n",
       "      <td>716701.1480</td>\n",
       "      <td>5957</td>\n",
       "      <td>153.80</td>\n",
       "      <td>184034.8663</td>\n",
       "      <td>119212.8930</td>\n",
       "      <td>963</td>\n",
       "      <td>90.40</td>\n",
       "      <td>-38579.9182</td>\n",
       "      <td>145454.9481</td>\n",
       "    </tr>\n",
       "  </tbody>\n",
       "</table>\n",
       "</div>"
      ],
      "text/plain": [
       "          Category      Sales_x  Quantity_x  Discount_x       Profit  \\\n",
       "0        Furniture  465116.9615        5251       98.85   79387.3818   \n",
       "1  Office Supplies  618988.7490       19370      400.40  179106.0593   \n",
       "2       Technology  716701.1480        5957      153.80  184034.8663   \n",
       "\n",
       "       Sales_y  Quantity_y  Discount_y        Loss  Overall Gain  \n",
       "0  257885.5868        2652      262.14 -60936.1090    18451.2728  \n",
       "1   91608.6750        3425      547.20 -56615.2585   122490.8008  \n",
       "2  119212.8930         963       90.40 -38579.9182   145454.9481  "
      ]
     },
     "execution_count": 55,
     "metadata": {},
     "output_type": "execute_result"
    }
   ],
   "source": [
    "overall_category"
   ]
  },
  {
   "cell_type": "code",
   "execution_count": 56,
   "metadata": {},
   "outputs": [
    {
     "data": {
      "text/plain": [
       "<matplotlib.axes._subplots.AxesSubplot at 0x282c2f4df48>"
      ]
     },
     "execution_count": 56,
     "metadata": {},
     "output_type": "execute_result"
    },
    {
     "data": {
      "image/png": "[encoded data removed]",
      "text/plain": [
       "<Figure size 432x288 with 1 Axes>"
      ]
     },
     "metadata": {
      "needs_background": "light"
     },
     "output_type": "display_data"
    }
   ],
   "source": [
    "sns.barplot(x='Category',y='Overall Gain',data=overall_category)"
   ]
  },
  {
   "cell_type": "markdown",
   "metadata": {},
   "source": [
    "From the above graph, we can conclude that maximum benefit are gained from Technology and minimum benefit from Furniture. So we need to examine the Furniture section more closely to see which sub-category caused the maximum loss. "
   ]
  },
  {
   "cell_type": "markdown",
   "metadata": {},
   "source": [
    "Let's examine the Furniture category in detail."
   ]
  },
  {
   "cell_type": "code",
   "execution_count": 61,
   "metadata": {},
   "outputs": [],
   "source": [
    "Furniture=df[df['Category']=='Furniture']"
   ]
  },
  {
   "cell_type": "code",
   "execution_count": 62,
   "metadata": {},
   "outputs": [],
   "source": [
    "#We will make different dataframe for Profit and Loss in Furniture category.\n",
    "Furniture_profit=Furniture[Furniture['Profit']>0]\n",
    "Furniture_loss=Furniture[Furniture['Profit']<0]\n",
    "Furniture_loss.rename(columns={'Profit':'Loss'},inplace=True)"
   ]
  },
  {
   "cell_type": "code",
   "execution_count": 65,
   "metadata": {},
   "outputs": [],
   "source": [
    "#We will group by sub-category for profit and loss of Furniture dataframe to examine the Furniture in more detail.\n",
    "Furniture_profit=Furniture_profit.groupby('Sub-Category').sum().drop('Postal Code',axis=1).reset_index()\n",
    "Furniture_loss=Furniture_loss.groupby('Sub-Category').sum().drop('Postal Code',axis=1).reset_index()"
   ]
  },
  {
   "cell_type": "code",
   "execution_count": 66,
   "metadata": {},
   "outputs": [
    {
     "data": {
      "text/plain": [
       "<matplotlib.axes._subplots.AxesSubplot at 0x282c3197048>"
      ]
     },
     "execution_count": 66,
     "metadata": {},
     "output_type": "execute_result"
    },
    {
     "data": {
      "image/png": "[encoded data removed]",
      "text/plain": [
       "<Figure size 432x288 with 1 Axes>"
      ]
     },
     "metadata": {
      "needs_background": "light"
     },
     "output_type": "display_data"
    }
   ],
   "source": [
    "sns.barplot(x='Sub-Category',y='Profit',data=Furniture_profit)"
   ]
  },
  {
   "cell_type": "code",
   "execution_count": 67,
   "metadata": {},
   "outputs": [
    {
     "data": {
      "text/plain": [
       "<matplotlib.axes._subplots.AxesSubplot at 0x282c313b288>"
      ]
     },
     "execution_count": 67,
     "metadata": {},
     "output_type": "execute_result"
    },
    {
     "data": {
      "image/png": "[encoded data removed]",
      "text/plain": [
       "<Figure size 432x288 with 1 Axes>"
      ]
     },
     "metadata": {
      "needs_background": "light"
     },
     "output_type": "display_data"
    }
   ],
   "source": [
    "sns.barplot(x='Sub-Category',y='Loss',data=Furniture_loss)"
   ]
  },
  {
   "cell_type": "markdown",
   "metadata": {},
   "source": [
    "Let's see the overall gain in Furniture category."
   ]
  },
  {
   "cell_type": "code",
   "execution_count": 68,
   "metadata": {},
   "outputs": [],
   "source": [
    "overall_furniture=pd.merge(Furniture_profit,Furniture_loss,on='Sub-Category')\n",
    "overall_furniture['Overall Gain']=overall_furniture['Profit']+overall_furniture['Loss']"
   ]
  },
  {
   "cell_type": "code",
   "execution_count": 69,
   "metadata": {},
   "outputs": [
    {
     "data": {
      "text/plain": [
       "<matplotlib.axes._subplots.AxesSubplot at 0x282c2615308>"
      ]
     },
     "execution_count": 69,
     "metadata": {},
     "output_type": "execute_result"
    },
    {
     "data": {
      "image/png": "[encoded data removed]",
      "text/plain": [
       "<Figure size 432x288 with 1 Axes>"
      ]
     },
     "metadata": {
      "needs_background": "light"
     },
     "output_type": "display_data"
    }
   ],
   "source": [
    "sns.barplot(x='Sub-Category',y='Overall Gain',data=overall_furniture)"
   ]
  },
  {
   "cell_type": "markdown",
   "metadata": {},
   "source": [
    "So, we can see bookcases and tables section of Furniture category are causing more loss than profit. Thus, this area need more attention to achieve maximum profit from Furniture section. "
   ]
  },
  {
   "cell_type": "markdown",
   "metadata": {},
   "source": [
    "# Sales and Profit by Ship Mode"
   ]
  },
  {
   "cell_type": "markdown",
   "metadata": {},
   "source": [
    "Here, we will examine through which Ship Mode this Retail company is getting maximum profit."
   ]
  },
  {
   "cell_type": "markdown",
   "metadata": {},
   "source": [
    "We will make different dataframe for Profit and Loss of Ship Mode, merge them together and visualize it graphically."
   ]
  },
  {
   "cell_type": "code",
   "execution_count": 70,
   "metadata": {},
   "outputs": [],
   "source": [
    "ShipMode_profit=Profit.groupby('Ship Mode').sum().drop('Postal Code',axis=1).reset_index()\n",
    "ShipMode_loss=Loss.groupby('Ship Mode').sum().drop('Postal Code',axis=1).reset_index()\n",
    "ShipMode_loss.rename(columns={'Profit':'Loss'},inplace=True)"
   ]
  },
  {
   "cell_type": "code",
   "execution_count": 71,
   "metadata": {},
   "outputs": [],
   "source": [
    "#Merging profit and loss dataframe of Ship Mode\n",
    "ShipMode=pd.merge(ShipMode_profit,ShipMode_loss,on='Ship Mode').drop(['Sales_x','Sales_y','Quantity_x','Quantity_y','Discount_x','Discount_y'],axis=1)"
   ]
  },
  {
   "cell_type": "code",
   "execution_count": 72,
   "metadata": {},
   "outputs": [
    {
     "data": {
      "text/html": [
       "<div>\n",
       "<style scoped>\n",
       "    .dataframe tbody tr th:only-of-type {\n",
       "        vertical-align: middle;\n",
       "    }\n",
       "\n",
       "    .dataframe tbody tr th {\n",
       "        vertical-align: top;\n",
       "    }\n",
       "\n",
       "    .dataframe thead th {\n",
       "        text-align: right;\n",
       "    }\n",
       "</style>\n",
       "<table border=\"1\" class=\"dataframe\">\n",
       "  <thead>\n",
       "    <tr style=\"text-align: right;\">\n",
       "      <th></th>\n",
       "      <th>Ship Mode</th>\n",
       "      <th>Profit</th>\n",
       "      <th>Loss</th>\n",
       "    </tr>\n",
       "  </thead>\n",
       "  <tbody>\n",
       "    <tr>\n",
       "      <th>0</th>\n",
       "      <td>First Class</td>\n",
       "      <td>71630.1108</td>\n",
       "      <td>-22660.2709</td>\n",
       "    </tr>\n",
       "    <tr>\n",
       "      <th>1</th>\n",
       "      <td>Same Day</td>\n",
       "      <td>24789.8643</td>\n",
       "      <td>-8898.1054</td>\n",
       "    </tr>\n",
       "    <tr>\n",
       "      <th>2</th>\n",
       "      <td>Second Class</td>\n",
       "      <td>81671.0083</td>\n",
       "      <td>-24224.3729</td>\n",
       "    </tr>\n",
       "    <tr>\n",
       "      <th>3</th>\n",
       "      <td>Standard Class</td>\n",
       "      <td>264437.3240</td>\n",
       "      <td>-100348.5365</td>\n",
       "    </tr>\n",
       "  </tbody>\n",
       "</table>\n",
       "</div>"
      ],
      "text/plain": [
       "        Ship Mode       Profit         Loss\n",
       "0     First Class   71630.1108  -22660.2709\n",
       "1        Same Day   24789.8643   -8898.1054\n",
       "2    Second Class   81671.0083  -24224.3729\n",
       "3  Standard Class  264437.3240 -100348.5365"
      ]
     },
     "execution_count": 72,
     "metadata": {},
     "output_type": "execute_result"
    }
   ],
   "source": [
    "ShipMode"
   ]
  },
  {
   "cell_type": "code",
   "execution_count": 73,
   "metadata": {},
   "outputs": [
    {
     "data": {
      "image/png": "[encoded data removed]",
      "text/plain": [
       "<Figure size 720x504 with 1 Axes>"
      ]
     },
     "metadata": {
      "needs_background": "light"
     },
     "output_type": "display_data"
    }
   ],
   "source": [
    "plt.figure(figsize=(10,7))\n",
    "width = 0.35 \n",
    "rects1 = plt.bar(ShipMode['Ship Mode'], ShipMode['Profit'], -width, align='edge', color='g', label='Profit')\n",
    "rects2 = plt.bar(ShipMode['Ship Mode'], ShipMode['Loss'], +width, align='edge', color='r', label='Loss')\n",
    "\n",
    "\n",
    "plt.xlabel('Ship Mode')\n",
    "plt.ylabel('Profit/Loss')\n",
    "plt.title('Comparision between Ship Mode')\n",
    "plt.legend()\n",
    "\n",
    "def autolabel(rects,spacing=5):\n",
    "    \"\"\"Add labels to the end of each bar in a bar chart.\"\"\"\n",
    "    for rect in rects:\n",
    "        # Get X and Y placement of label from rect.\n",
    "        y_value = rect.get_height()\n",
    "        x_value = rect.get_x() + rect.get_width() / 2\n",
    "\n",
    "        # Number of points between bar and label. Change to your liking.\n",
    "        space = spacing\n",
    "        # Vertical alignment for positive values\n",
    "        va = 'bottom'\n",
    "\n",
    "        # If value of bar is negative: Place label below bar\n",
    "        if y_value < 0:\n",
    "            # Invert space to place label below\n",
    "            space *= -1\n",
    "            # Vertically\n",
    "            va=\"top\"\n",
    "        label = \"{:.1f}\".format(y_value)\n",
    "        \n",
    "        plt.annotate(\n",
    "            label,                      # Use `label` as label\n",
    "            (x_value, y_value),         # Place label at end of the bar\n",
    "            xytext=(0, space),          # Vertically shift label by `space`\n",
    "            textcoords=\"offset points\", # Interpret `xytext` as offset in points\n",
    "            ha='center',                # Horizontally center label\n",
    "            va=va)                      # Vertically align label differently for\n",
    "                                        # positive and negative values.\n",
    "            \n",
    "autolabel(rects1)\n",
    "autolabel(rects2)\n",
    "\n",
    "plt.show()"
   ]
  },
  {
   "cell_type": "markdown",
   "metadata": {},
   "source": [
    "## Overall Gain in Ship Mode"
   ]
  },
  {
   "cell_type": "code",
   "execution_count": 74,
   "metadata": {},
   "outputs": [],
   "source": [
    "ShipMode['Overall Gain']=ShipMode['Profit']+ShipMode['Loss']"
   ]
  },
  {
   "cell_type": "code",
   "execution_count": 75,
   "metadata": {},
   "outputs": [
    {
     "data": {
      "text/html": [
       "<div>\n",
       "<style scoped>\n",
       "    .dataframe tbody tr th:only-of-type {\n",
       "        vertical-align: middle;\n",
       "    }\n",
       "\n",
       "    .dataframe tbody tr th {\n",
       "        vertical-align: top;\n",
       "    }\n",
       "\n",
       "    .dataframe thead th {\n",
       "        text-align: right;\n",
       "    }\n",
       "</style>\n",
       "<table border=\"1\" class=\"dataframe\">\n",
       "  <thead>\n",
       "    <tr style=\"text-align: right;\">\n",
       "      <th></th>\n",
       "      <th>Ship Mode</th>\n",
       "      <th>Profit</th>\n",
       "      <th>Loss</th>\n",
       "      <th>Overall Gain</th>\n",
       "    </tr>\n",
       "  </thead>\n",
       "  <tbody>\n",
       "    <tr>\n",
       "      <th>0</th>\n",
       "      <td>First Class</td>\n",
       "      <td>71630.1108</td>\n",
       "      <td>-22660.2709</td>\n",
       "      <td>48969.8399</td>\n",
       "    </tr>\n",
       "    <tr>\n",
       "      <th>1</th>\n",
       "      <td>Same Day</td>\n",
       "      <td>24789.8643</td>\n",
       "      <td>-8898.1054</td>\n",
       "      <td>15891.7589</td>\n",
       "    </tr>\n",
       "    <tr>\n",
       "      <th>2</th>\n",
       "      <td>Second Class</td>\n",
       "      <td>81671.0083</td>\n",
       "      <td>-24224.3729</td>\n",
       "      <td>57446.6354</td>\n",
       "    </tr>\n",
       "    <tr>\n",
       "      <th>3</th>\n",
       "      <td>Standard Class</td>\n",
       "      <td>264437.3240</td>\n",
       "      <td>-100348.5365</td>\n",
       "      <td>164088.7875</td>\n",
       "    </tr>\n",
       "  </tbody>\n",
       "</table>\n",
       "</div>"
      ],
      "text/plain": [
       "        Ship Mode       Profit         Loss  Overall Gain\n",
       "0     First Class   71630.1108  -22660.2709    48969.8399\n",
       "1        Same Day   24789.8643   -8898.1054    15891.7589\n",
       "2    Second Class   81671.0083  -24224.3729    57446.6354\n",
       "3  Standard Class  264437.3240 -100348.5365   164088.7875"
      ]
     },
     "execution_count": 75,
     "metadata": {},
     "output_type": "execute_result"
    }
   ],
   "source": [
    "ShipMode"
   ]
  },
  {
   "cell_type": "code",
   "execution_count": 76,
   "metadata": {},
   "outputs": [
    {
     "data": {
      "text/plain": [
       "<matplotlib.axes._subplots.AxesSubplot at 0x282c2535e88>"
      ]
     },
     "execution_count": 76,
     "metadata": {},
     "output_type": "execute_result"
    },
    {
     "data": {
      "image/png": "[encoded data removed]",
      "text/plain": [
       "<Figure size 432x288 with 1 Axes>"
      ]
     },
     "metadata": {
      "needs_background": "light"
     },
     "output_type": "display_data"
    }
   ],
   "source": [
    "sns.barplot(x='Ship Mode',y='Overall Gain',data=ShipMode)"
   ]
  },
  {
   "cell_type": "markdown",
   "metadata": {},
   "source": [
    "Maximum profit is gained from the 'Standard Class' and minumum from 'Same Day' ship mode. "
   ]
  },
  {
   "cell_type": "markdown",
   "metadata": {},
   "source": [
    "## Category and Ship Mode"
   ]
  },
  {
   "cell_type": "markdown",
   "metadata": {},
   "source": [
    "Inorder to compare category and ship mode, we need to make different dataframe for profit and loss of different category and group them by ship mode."
   ]
  },
  {
   "cell_type": "code",
   "execution_count": 82,
   "metadata": {},
   "outputs": [],
   "source": [
    "Profit_Furniture_shipmode=Profit[Profit['Category']=='Furniture'].groupby('Ship Mode').sum().drop('Postal Code',axis=1).reset_index()\n",
    "Profit_Technology_shipmode=Profit[Profit['Category']=='Technology'].groupby('Ship Mode').sum().drop('Postal Code',axis=1).reset_index()\n",
    "Profit_Officesupplies_shipmode=Profit[Profit['Category']=='Office Supplies'].groupby('Ship Mode').sum().drop('Postal Code',axis=1).reset_index()"
   ]
  },
  {
   "cell_type": "code",
   "execution_count": 83,
   "metadata": {},
   "outputs": [],
   "source": [
    "Loss_Furniture_shipmode=Loss[Loss['Category']=='Furniture'].groupby('Ship Mode').sum().drop('Postal Code',axis=1).reset_index()\n",
    "Loss_Technology_shipmode=Loss[Loss['Category']=='Technology'].groupby('Ship Mode').sum().drop('Postal Code',axis=1).reset_index()\n",
    "Loss_Officesupplies_shipmode=Loss[Loss['Category']=='Office Supplies'].groupby('Ship Mode').sum().drop('Postal Code',axis=1 ).reset_index()"
   ]
  },
  {
   "cell_type": "markdown",
   "metadata": {},
   "source": [
    "Now, let's merge Profit and Loss dataframe for each category."
   ]
  },
  {
   "cell_type": "code",
   "execution_count": 84,
   "metadata": {},
   "outputs": [],
   "source": [
    "Furniture_shipmode=pd.merge(Profit_Furniture_shipmode,Loss_Furniture_shipmode,on='Ship Mode').drop(columns=['Sales_x','Sales_y','Quantity_x','Quantity_y','Discount_x','Discount_y'])\n",
    "Technology_shipmode=pd.merge(Profit_Technology_shipmode,Loss_Technology_shipmode,on='Ship Mode').drop(columns=['Sales_x','Sales_y','Quantity_x','Quantity_y','Discount_x','Discount_y'])\n",
    "Officesupplies_shipmode=pd.merge(Profit_Officesupplies_shipmode,Loss_Officesupplies_shipmode,on='Ship Mode').drop(columns=['Sales_x','Sales_y','Quantity_x','Quantity_y','Discount_x','Discount_y'])"
   ]
  },
  {
   "cell_type": "code",
   "execution_count": 85,
   "metadata": {},
   "outputs": [],
   "source": [
    "Furniture_shipmode['Furniture Overall Gain']=Furniture_shipmode['Profit']+Furniture_shipmode['Loss']\n",
    "Technology_shipmode['Technology Overall Gain']=Technology_shipmode['Profit']+Technology_shipmode['Loss']\n",
    "Officesupplies_shipmode['Office Supplies Overall Gain']=Officesupplies_shipmode['Profit']+Officesupplies_shipmode['Loss']"
   ]
  },
  {
   "cell_type": "code",
   "execution_count": 86,
   "metadata": {},
   "outputs": [
    {
     "data": {
      "text/html": [
       "<div>\n",
       "<style scoped>\n",
       "    .dataframe tbody tr th:only-of-type {\n",
       "        vertical-align: middle;\n",
       "    }\n",
       "\n",
       "    .dataframe tbody tr th {\n",
       "        vertical-align: top;\n",
       "    }\n",
       "\n",
       "    .dataframe thead th {\n",
       "        text-align: right;\n",
       "    }\n",
       "</style>\n",
       "<table border=\"1\" class=\"dataframe\">\n",
       "  <thead>\n",
       "    <tr style=\"text-align: right;\">\n",
       "      <th></th>\n",
       "      <th>Ship Mode</th>\n",
       "      <th>Profit</th>\n",
       "      <th>Loss</th>\n",
       "      <th>Furniture Overall Gain</th>\n",
       "    </tr>\n",
       "  </thead>\n",
       "  <tbody>\n",
       "    <tr>\n",
       "      <th>0</th>\n",
       "      <td>First Class</td>\n",
       "      <td>11191.4265</td>\n",
       "      <td>-8124.4791</td>\n",
       "      <td>3066.9474</td>\n",
       "    </tr>\n",
       "    <tr>\n",
       "      <th>1</th>\n",
       "      <td>Same Day</td>\n",
       "      <td>3867.1374</td>\n",
       "      <td>-3069.7890</td>\n",
       "      <td>797.3484</td>\n",
       "    </tr>\n",
       "    <tr>\n",
       "      <th>2</th>\n",
       "      <td>Second Class</td>\n",
       "      <td>17208.2213</td>\n",
       "      <td>-12981.9599</td>\n",
       "      <td>4226.2614</td>\n",
       "    </tr>\n",
       "    <tr>\n",
       "      <th>3</th>\n",
       "      <td>Standard Class</td>\n",
       "      <td>47120.5966</td>\n",
       "      <td>-36759.8810</td>\n",
       "      <td>10360.7156</td>\n",
       "    </tr>\n",
       "  </tbody>\n",
       "</table>\n",
       "</div>"
      ],
      "text/plain": [
       "        Ship Mode      Profit        Loss  Furniture Overall Gain\n",
       "0     First Class  11191.4265  -8124.4791               3066.9474\n",
       "1        Same Day   3867.1374  -3069.7890                797.3484\n",
       "2    Second Class  17208.2213 -12981.9599               4226.2614\n",
       "3  Standard Class  47120.5966 -36759.8810              10360.7156"
      ]
     },
     "execution_count": 86,
     "metadata": {},
     "output_type": "execute_result"
    }
   ],
   "source": [
    "Furniture_shipmode"
   ]
  },
  {
   "cell_type": "markdown",
   "metadata": {},
   "source": [
    "Again, we will merge all these category dataframe together."
   ]
  },
  {
   "cell_type": "code",
   "execution_count": 87,
   "metadata": {},
   "outputs": [],
   "source": [
    "Category_shipmode=pd.merge(Furniture_shipmode.drop(columns=['Profit','Loss'],axis=1),Technology_shipmode.drop(columns=['Profit','Loss']),on='Ship Mode')"
   ]
  },
  {
   "cell_type": "code",
   "execution_count": 88,
   "metadata": {},
   "outputs": [],
   "source": [
    "Category_shipmode=pd.merge(Category_shipmode,Officesupplies_shipmode.drop(columns=['Profit','Loss'],axis=1))"
   ]
  },
  {
   "cell_type": "code",
   "execution_count": 90,
   "metadata": {},
   "outputs": [
    {
     "data": {
      "text/html": [
       "<div>\n",
       "<style scoped>\n",
       "    .dataframe tbody tr th:only-of-type {\n",
       "        vertical-align: middle;\n",
       "    }\n",
       "\n",
       "    .dataframe tbody tr th {\n",
       "        vertical-align: top;\n",
       "    }\n",
       "\n",
       "    .dataframe thead th {\n",
       "        text-align: right;\n",
       "    }\n",
       "</style>\n",
       "<table border=\"1\" class=\"dataframe\">\n",
       "  <thead>\n",
       "    <tr style=\"text-align: right;\">\n",
       "      <th></th>\n",
       "      <th>Ship Mode</th>\n",
       "      <th>Furniture Overall Gain</th>\n",
       "      <th>Technology Overall Gain</th>\n",
       "      <th>Office Supplies Overall Gain</th>\n",
       "    </tr>\n",
       "  </thead>\n",
       "  <tbody>\n",
       "    <tr>\n",
       "      <th>0</th>\n",
       "      <td>First Class</td>\n",
       "      <td>3066.9474</td>\n",
       "      <td>27502.5634</td>\n",
       "      <td>18400.3291</td>\n",
       "    </tr>\n",
       "    <tr>\n",
       "      <th>1</th>\n",
       "      <td>Same Day</td>\n",
       "      <td>797.3484</td>\n",
       "      <td>8670.8913</td>\n",
       "      <td>6423.5192</td>\n",
       "    </tr>\n",
       "    <tr>\n",
       "      <th>2</th>\n",
       "      <td>Second Class</td>\n",
       "      <td>4226.2614</td>\n",
       "      <td>26152.2064</td>\n",
       "      <td>27068.1676</td>\n",
       "    </tr>\n",
       "    <tr>\n",
       "      <th>3</th>\n",
       "      <td>Standard Class</td>\n",
       "      <td>10360.7156</td>\n",
       "      <td>83129.2870</td>\n",
       "      <td>70598.7849</td>\n",
       "    </tr>\n",
       "  </tbody>\n",
       "</table>\n",
       "</div>"
      ],
      "text/plain": [
       "        Ship Mode  Furniture Overall Gain  Technology Overall Gain  \\\n",
       "0     First Class               3066.9474               27502.5634   \n",
       "1        Same Day                797.3484                8670.8913   \n",
       "2    Second Class               4226.2614               26152.2064   \n",
       "3  Standard Class              10360.7156               83129.2870   \n",
       "\n",
       "   Office Supplies Overall Gain  \n",
       "0                    18400.3291  \n",
       "1                     6423.5192  \n",
       "2                    27068.1676  \n",
       "3                    70598.7849  "
      ]
     },
     "execution_count": 90,
     "metadata": {},
     "output_type": "execute_result"
    }
   ],
   "source": [
    "#Our final dataframe will look like this.\n",
    "Category_shipmode"
   ]
  },
  {
   "cell_type": "code",
   "execution_count": 92,
   "metadata": {},
   "outputs": [
    {
     "data": {
      "image/png": "[encoded data removed]",
      "text/plain": [
       "<Figure size 864x576 with 1 Axes>"
      ]
     },
     "metadata": {
      "needs_background": "light"
     },
     "output_type": "display_data"
    }
   ],
   "source": [
    "ind = np.arange(5)  # the x locations for the groups\n",
    "width = 0.2       # the width of the bars\n",
    "fig, ax = plt.subplots(figsize=(12,8))\n",
    "rects1=ax.bar(Category_shipmode['Ship Mode'], Category_shipmode['Furniture Overall Gain'], width*2, align='edge', color='powderblue', label='Furniture')\n",
    "rects2 =ax.bar(Category_shipmode['Ship Mode'], Category_shipmode['Technology Overall Gain'], -width, align='edge', color='rosybrown', label='Technology')\n",
    "rects3=ax.bar(Category_shipmode['Ship Mode'], Category_shipmode['Office Supplies Overall Gain'], width, align='edge', color='pink', label='Office Supplies')\n",
    "xlabels=Category_shipmode.iloc[:,0]\n",
    "ax.set_xticks(ind-width/2)\n",
    "ax.set_xticklabels(xlabels,fontsize=10)\n",
    "ax.set_xlabel(\"Ship Mode\", fontsize=12)\n",
    "ax.set_ylabel(\"Overall Gain\", fontsize=12)\n",
    "ax.set_title('Ship Mode vs Overall Gain in Furniture, Technology and Office Supplies')\n",
    "ax.legend((rects1[0], rects2[0],rects3[0]),('Furniture Overall Gain', 'Technology Overall Gain','Office Supplies Overall Gain'),bbox_to_anchor=(0.26, 0.99))\n",
    "\n",
    "plt.show()"
   ]
  },
  {
   "cell_type": "markdown",
   "metadata": {},
   "source": [
    "Here we can observe, in every ship mode, technology has its maximum overall gain except in 'Second Class' ship mode. Furniture has its lowest overall gain in every ship mode."
   ]
  },
  {
   "cell_type": "markdown",
   "metadata": {},
   "source": [
    "## Sales in different region"
   ]
  },
  {
   "cell_type": "code",
   "execution_count": 94,
   "metadata": {},
   "outputs": [],
   "source": [
    "Region=df.groupby('Region').sum().drop('Postal Code',axis=1)"
   ]
  },
  {
   "cell_type": "code",
   "execution_count": 95,
   "metadata": {},
   "outputs": [
    {
     "data": {
      "text/html": [
       "<div>\n",
       "<style scoped>\n",
       "    .dataframe tbody tr th:only-of-type {\n",
       "        vertical-align: middle;\n",
       "    }\n",
       "\n",
       "    .dataframe tbody tr th {\n",
       "        vertical-align: top;\n",
       "    }\n",
       "\n",
       "    .dataframe thead th {\n",
       "        text-align: right;\n",
       "    }\n",
       "</style>\n",
       "<table border=\"1\" class=\"dataframe\">\n",
       "  <thead>\n",
       "    <tr style=\"text-align: right;\">\n",
       "      <th></th>\n",
       "      <th>Sales</th>\n",
       "      <th>Quantity</th>\n",
       "      <th>Discount</th>\n",
       "      <th>Profit</th>\n",
       "    </tr>\n",
       "    <tr>\n",
       "      <th>Region</th>\n",
       "      <th></th>\n",
       "      <th></th>\n",
       "      <th></th>\n",
       "      <th></th>\n",
       "    </tr>\n",
       "  </thead>\n",
       "  <tbody>\n",
       "    <tr>\n",
       "      <th>Central</th>\n",
       "      <td>501239.8908</td>\n",
       "      <td>8780</td>\n",
       "      <td>558.34</td>\n",
       "      <td>39706.3625</td>\n",
       "    </tr>\n",
       "    <tr>\n",
       "      <th>East</th>\n",
       "      <td>678781.2400</td>\n",
       "      <td>10618</td>\n",
       "      <td>414.00</td>\n",
       "      <td>91522.7800</td>\n",
       "    </tr>\n",
       "    <tr>\n",
       "      <th>South</th>\n",
       "      <td>391721.9050</td>\n",
       "      <td>6209</td>\n",
       "      <td>238.55</td>\n",
       "      <td>46749.4303</td>\n",
       "    </tr>\n",
       "    <tr>\n",
       "      <th>West</th>\n",
       "      <td>725457.8245</td>\n",
       "      <td>12266</td>\n",
       "      <td>350.20</td>\n",
       "      <td>108418.4489</td>\n",
       "    </tr>\n",
       "  </tbody>\n",
       "</table>\n",
       "</div>"
      ],
      "text/plain": [
       "               Sales  Quantity  Discount       Profit\n",
       "Region                                               \n",
       "Central  501239.8908      8780    558.34   39706.3625\n",
       "East     678781.2400     10618    414.00   91522.7800\n",
       "South    391721.9050      6209    238.55   46749.4303\n",
       "West     725457.8245     12266    350.20  108418.4489"
      ]
     },
     "execution_count": 95,
     "metadata": {},
     "output_type": "execute_result"
    }
   ],
   "source": [
    "Region"
   ]
  },
  {
   "cell_type": "code",
   "execution_count": 96,
   "metadata": {},
   "outputs": [
    {
     "name": "stderr",
     "output_type": "stream",
     "text": [
      "C:\\Users\\dell\\anaconda3\\lib\\site-packages\\ipykernel_launcher.py:4: MatplotlibDeprecationWarning: Adding an axes using the same arguments as a previous axes currently reuses the earlier instance.  In a future version, a new instance will always be created and returned.  Meanwhile, this warning can be suppressed, and the future behavior ensured, by passing a unique label to each axes instance.\n",
      "  after removing the cwd from sys.path.\n"
     ]
    },
    {
     "data": {
      "text/plain": [
       "Text(0, 0.5, '')"
      ]
     },
     "execution_count": 96,
     "metadata": {},
     "output_type": "execute_result"
    },
    {
     "data": {
      "image/png": "[encoded data removed]",
      "text/plain": [
       "<Figure size 720x576 with 1 Axes>"
      ]
     },
     "metadata": {},
     "output_type": "display_data"
    }
   ],
   "source": [
    "plt.figure(figsize=(10,8))\n",
    "colors = [\"skyblue\", \"mediumturquoise\",\"paleturquoise\",\"lightseagreen\"]\n",
    "Region['Quantity'].plot.pie(autopct='%1.1f%%',colors=colors)\n",
    "plt.axes().set_ylabel('')"
   ]
  },
  {
   "cell_type": "markdown",
   "metadata": {},
   "source": [
    "Maximum sales is in West region and minimum sales is in South region."
   ]
  },
  {
   "cell_type": "markdown",
   "metadata": {},
   "source": [
    "## Region wise Category Classification"
   ]
  },
  {
   "cell_type": "code",
   "execution_count": 98,
   "metadata": {},
   "outputs": [],
   "source": [
    "#As we have already created seperate Furniture dataframe, we do not need to create this time.\n",
    "Technology=df[df['Category']=='Technology']\n",
    "Office_Supplies=df[df['Category']=='Office Supplies']"
   ]
  },
  {
   "cell_type": "markdown",
   "metadata": {},
   "source": [
    "Now, we will group this dataframe by Region and merge them together."
   ]
  },
  {
   "cell_type": "code",
   "execution_count": 100,
   "metadata": {},
   "outputs": [],
   "source": [
    "Furniture_Region=Furniture.groupby('Region').sum().drop(['Postal Code','Discount'],axis=1).reset_index()\n",
    "Technology_Region=Technology.groupby('Region').sum().drop(['Postal Code','Discount'],axis=1).reset_index()\n",
    "Office_Region=Office_Supplies.groupby('Region').sum().drop(['Postal Code','Discount'],axis=1).reset_index()"
   ]
  },
  {
   "cell_type": "code",
   "execution_count": 101,
   "metadata": {},
   "outputs": [],
   "source": [
    "#Renaming the columns to avoide the confusion while merging this dataframe.\n",
    "Furniture_Region.rename(columns={'Quantity':'Quantity (Furniture)','Sales':'Sales (Furniture)','Profit':'Profit (Furniture)'},inplace=True)\n",
    "Technology_Region.rename(columns={'Quantity':'Quantity (Technology)','Sales':'Sales (Technology)','Profit':'Profit (Technology)'},inplace=True)\n",
    "Office_Region.rename(columns={'Quantity':'Quantity (Office Supplies)','Sales':'Sales (Office Supplies)','Profit':'Profit (Office Supplies)'},inplace=True)"
   ]
  },
  {
   "cell_type": "code",
   "execution_count": 104,
   "metadata": {},
   "outputs": [],
   "source": [
    "#Merging above dataframes\n",
    "Regions=pd.merge(Furniture_Region,Technology_Region,on=\"Region\").merge(Office_Region,on='Region')"
   ]
  },
  {
   "cell_type": "code",
   "execution_count": 105,
   "metadata": {},
   "outputs": [
    {
     "data": {
      "text/html": [
       "<div>\n",
       "<style scoped>\n",
       "    .dataframe tbody tr th:only-of-type {\n",
       "        vertical-align: middle;\n",
       "    }\n",
       "\n",
       "    .dataframe tbody tr th {\n",
       "        vertical-align: top;\n",
       "    }\n",
       "\n",
       "    .dataframe thead th {\n",
       "        text-align: right;\n",
       "    }\n",
       "</style>\n",
       "<table border=\"1\" class=\"dataframe\">\n",
       "  <thead>\n",
       "    <tr style=\"text-align: right;\">\n",
       "      <th></th>\n",
       "      <th>Region</th>\n",
       "      <th>Sales (Furniture)</th>\n",
       "      <th>Quantity (Furniture)</th>\n",
       "      <th>Profit (Furniture)</th>\n",
       "      <th>Sales (Technology)</th>\n",
       "      <th>Quantity (Technology)</th>\n",
       "      <th>Profit (Technology)</th>\n",
       "      <th>Sales (Office Supplies)</th>\n",
       "      <th>Quantity (Office Supplies)</th>\n",
       "      <th>Profit (Office Supplies)</th>\n",
       "    </tr>\n",
       "  </thead>\n",
       "  <tbody>\n",
       "    <tr>\n",
       "      <th>0</th>\n",
       "      <td>Central</td>\n",
       "      <td>163797.1638</td>\n",
       "      <td>1827</td>\n",
       "      <td>-2871.0494</td>\n",
       "      <td>170416.312</td>\n",
       "      <td>1544</td>\n",
       "      <td>33697.4320</td>\n",
       "      <td>167026.415</td>\n",
       "      <td>5409</td>\n",
       "      <td>8879.9799</td>\n",
       "    </tr>\n",
       "    <tr>\n",
       "      <th>1</th>\n",
       "      <td>East</td>\n",
       "      <td>208291.2040</td>\n",
       "      <td>2214</td>\n",
       "      <td>3046.1658</td>\n",
       "      <td>264973.981</td>\n",
       "      <td>1942</td>\n",
       "      <td>47462.0351</td>\n",
       "      <td>205516.055</td>\n",
       "      <td>6462</td>\n",
       "      <td>41014.5791</td>\n",
       "    </tr>\n",
       "    <tr>\n",
       "      <th>2</th>\n",
       "      <td>South</td>\n",
       "      <td>117298.6840</td>\n",
       "      <td>1291</td>\n",
       "      <td>6771.2061</td>\n",
       "      <td>148771.908</td>\n",
       "      <td>1118</td>\n",
       "      <td>19991.8314</td>\n",
       "      <td>125651.313</td>\n",
       "      <td>3800</td>\n",
       "      <td>19986.3928</td>\n",
       "    </tr>\n",
       "    <tr>\n",
       "      <th>3</th>\n",
       "      <td>West</td>\n",
       "      <td>252612.7435</td>\n",
       "      <td>2696</td>\n",
       "      <td>11504.9503</td>\n",
       "      <td>251991.832</td>\n",
       "      <td>2335</td>\n",
       "      <td>44303.6496</td>\n",
       "      <td>220853.249</td>\n",
       "      <td>7235</td>\n",
       "      <td>52609.8490</td>\n",
       "    </tr>\n",
       "  </tbody>\n",
       "</table>\n",
       "</div>"
      ],
      "text/plain": [
       "    Region  Sales (Furniture)  Quantity (Furniture)  Profit (Furniture)  \\\n",
       "0  Central        163797.1638                  1827          -2871.0494   \n",
       "1     East        208291.2040                  2214           3046.1658   \n",
       "2    South        117298.6840                  1291           6771.2061   \n",
       "3     West        252612.7435                  2696          11504.9503   \n",
       "\n",
       "   Sales (Technology)  Quantity (Technology)  Profit (Technology)  \\\n",
       "0          170416.312                   1544           33697.4320   \n",
       "1          264973.981                   1942           47462.0351   \n",
       "2          148771.908                   1118           19991.8314   \n",
       "3          251991.832                   2335           44303.6496   \n",
       "\n",
       "   Sales (Office Supplies)  Quantity (Office Supplies)  \\\n",
       "0               167026.415                        5409   \n",
       "1               205516.055                        6462   \n",
       "2               125651.313                        3800   \n",
       "3               220853.249                        7235   \n",
       "\n",
       "   Profit (Office Supplies)  \n",
       "0                 8879.9799  \n",
       "1                41014.5791  \n",
       "2                19986.3928  \n",
       "3                52609.8490  "
      ]
     },
     "execution_count": 105,
     "metadata": {},
     "output_type": "execute_result"
    }
   ],
   "source": [
    "Regions"
   ]
  },
  {
   "cell_type": "code",
   "execution_count": 116,
   "metadata": {},
   "outputs": [
    {
     "data": {
      "image/png": "[encoded data removed]",
      "text/plain": [
       "<Figure size 864x576 with 1 Axes>"
      ]
     },
     "metadata": {
      "needs_background": "light"
     },
     "output_type": "display_data"
    }
   ],
   "source": [
    "fig, ax = plt.subplots(figsize=(12,8))\n",
    "\n",
    "# Using numpy to group 3 different data with bars\n",
    "X = np.arange(4)\n",
    "# Passing the parameters to the bar function, this is the main function which creates the bar plot\n",
    "# Using X now to align the bars side by side\n",
    "rects1=plt.bar(X, Regions['Quantity (Furniture)'], color = 'lightcoral', width = 0.25)\n",
    "rects2=plt.bar(X + 0.25, Regions['Quantity (Technology)'], color = 'lightgreen', width = 0.25)\n",
    "rects3=plt.bar(X + 0.5, Regions['Quantity (Office Supplies)'], color = 'pink', width = 0.25)\n",
    "\n",
    "xlabels=Regions.iloc[:,0]\n",
    "ax.set_xticks(ind+width)\n",
    "ax.set_xticklabels(xlabels,fontsize=10)\n",
    "ax.set_xlabel(\"Region\", fontsize=12)\n",
    "ax.set_ylabel(\"Quantity\", fontsize=12)\n",
    "ax.set_title('Region wise category classification')\n",
    "ax.legend((rects1[0], rects2[0],rects3[0]),('Furniture', 'Technology','Office Supplies'),bbox_to_anchor=(0.20, 0.99))\n",
    "\n",
    "def labelvalue(rects):\n",
    "    for rect in rects:\n",
    "        height = rect.get_height()\n",
    "        ax.text(rect.get_x() + rect.get_width()/2, 1.01*height,'%d' % int(height),ha='center', va='bottom')\n",
    "labelvalue(rects1)\n",
    "labelvalue(rects2)\n",
    "labelvalue(rects3)\n",
    "plt.show()"
   ]
  },
  {
   "cell_type": "markdown",
   "metadata": {},
   "source": [
    "Here, we can see minimum quantity is supplied from Technology category and maximum form Office Supplies. Even though minimum quantity is supplied from technology category, there is maximum profit and minimum loss in this category. "
   ]
  },
  {
   "cell_type": "markdown",
   "metadata": {},
   "source": [
    "In conclusion, through Technology category this retail store can achieve maximum benefit in every region but they need to give attention to furniture category as they have maximum loss as compared to others."
   ]
  }
 ],
 "metadata": {
  "kernelspec": {
   "display_name": "Python 3",
   "language": "python",
   "name": "python3"
  },
  "language_info": {
   "codemirror_mode": {
    "name": "ipython",
    "version": 3
   },
   "file_extension": ".py",
   "mimetype": "text/x-python",
   "name": "python",
   "nbconvert_exporter": "python",
   "pygments_lexer": "ipython3",
   "version": "3.7.6"
  }
 },
 "nbformat": 4,
 "nbformat_minor": 4
}
